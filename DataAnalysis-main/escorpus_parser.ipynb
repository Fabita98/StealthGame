{
 "cells": [
  {
   "cell_type": "code",
   "id": "initial_id",
   "metadata": {
    "collapsed": true,
    "jupyter": {
     "is_executing": true
    }
   },
   "source": [
    "import os\n",
    "\n",
    "import audeer\n",
    "import audinterface\n",
    "import audonnx\n",
    "\n",
    "audio_root = 'datasets/Corpus_Globalv1/'\n",
    "model_root = 'voice/model'\n",
    "cache_root = 'voice/cache'\n",
    "\n",
    "audeer.mkdir(cache_root)\n",
    "\n",
    "\n",
    "def cache_path(file):\n",
    "    return os.path.join(cache_root, file)\n",
    "\n",
    "\n",
    "url = 'https://zenodo.org/record/6221127/files/w2v2-L-robust-12.6bc4a7fd-1.1.0.zip'\n",
    "dst_path = cache_path('model.zip')\n",
    "if not os.path.exists(dst_path):\n",
    "    audeer.download_url(url, dst_path, verbose=True)\n",
    "\n",
    "if not os.path.exists(model_root):\n",
    "    audeer.extract_archive(dst_path, model_root, verbose=True)\n",
    "\n",
    "model = audonnx.load(model_root)\n",
    "\n",
    "sampling_rate = 16000\n",
    "interface = audinterface.Feature(\n",
    "    model.labels('logits'),\n",
    "    process_func=model,\n",
    "    process_func_args={\n",
    "        'outputs': 'logits'\n",
    "    },\n",
    "    sampling_rate=sampling_rate,\n",
    "    resample=True,\n",
    "    verbose=True\n",
    ")\n",
    "\n",
    "\n",
    "def get_audio_path(root, audio_id):\n",
    "    return os.path.join(root, f\"Audio{audio_id}\")\n",
    "\n"
   ],
   "execution_count": null,
   "outputs": []
  },
  {
   "metadata": {},
   "cell_type": "code",
   "execution_count": null,
   "source": [
    "evaluations = {}\n",
    "with open(audio_root + \"evaluations.txt\", \"w\") as f:\n",
    "    for i in range(1, 15):\n",
    "        print(get_audio_path(audio_root, i))\n",
    "        tmp = [x for x in os.listdir(get_audio_path(audio_root, i)) if \".wav\" in x]\n",
    "        for t in tmp:\n",
    "            path = os.path.join(get_audio_path(audio_root, i), t)\n",
    "            print(f\"Processing {path}\")\n",
    "            evals = t.replace(\".wav\", \"\").split(\"-\")[1:]\n",
    "            ear = int(evals[1]) / 5\n",
    "            eva = int(evals[0]) / 5\n",
    "            edo = int(evals[2]) / 5\n",
    "            res = interface.process_file(path).round(2)\n",
    "            ar = res.iloc[0][\"arousal\"]\n",
    "            va = res.iloc[0][\"valence\"]\n",
    "            do = res.iloc[0][\"dominance\"]\n",
    "            v = (evals[0], evals[1], evals[2], ar, va, do)\n",
    "            evaluations[t] = v\n",
    "            f.write(f\"{t},{ear},{eva},{edo},{ar},{va},{do}\\n\")\n",
    "            f.flush()\n",
    "\n",
    "print(\"finished\")"
   ],
   "id": "156758801d08c9be",
   "outputs": []
  }
 ],
 "metadata": {
  "kernelspec": {
   "display_name": "Python 3",
   "language": "python",
   "name": "python3"
  },
  "language_info": {
   "codemirror_mode": {
    "name": "ipython",
    "version": 2
   },
   "file_extension": ".py",
   "mimetype": "text/x-python",
   "name": "python",
   "nbconvert_exporter": "python",
   "pygments_lexer": "ipython2",
   "version": "2.7.6"
  }
 },
 "nbformat": 4,
 "nbformat_minor": 5
}
